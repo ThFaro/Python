{
 "cells": [
  {
   "cell_type": "code",
   "execution_count": 5,
   "metadata": {},
   "outputs": [
    {
     "name": "stdout",
     "output_type": "stream",
     "text": [
      "{1, 2, 3, 4, 5, 6}\n"
     ]
    }
   ],
   "source": [
    "numeros = ([1,2,3,4,5,1,5,6])\n",
    "print(set(numeros))"
   ]
  },
  {
   "cell_type": "code",
   "execution_count": null,
   "metadata": {},
   "outputs": [],
   "source": [
    "fruta = set('abacaxi')\n",
    "print(fruta)"
   ]
  },
  {
   "cell_type": "code",
   "execution_count": 11,
   "metadata": {},
   "outputs": [
    {
     "name": "stdout",
     "output_type": "stream",
     "text": [
      "{'palio', 'celta', 'onix', 'gol'}\n"
     ]
    }
   ],
   "source": [
    "carros = set(('celta','gol','palio','gol','palio','onix',))\n",
    "print (carros)\n"
   ]
  },
  {
   "cell_type": "code",
   "execution_count": 1,
   "metadata": {},
   "outputs": [
    {
     "name": "stdout",
     "output_type": "stream",
     "text": [
      "{'css', 'java', 'python'}\n"
     ]
    }
   ],
   "source": [
    "# usando {} ou invés de set\n",
    "linguagens = {'python','python','java','css'}\n",
    "print(linguagens)"
   ]
  },
  {
   "cell_type": "code",
   "execution_count": 15,
   "metadata": {},
   "outputs": [
    {
     "name": "stdout",
     "output_type": "stream",
     "text": [
      "1\n"
     ]
    }
   ],
   "source": [
    "# convertendo um set para lista para poder achar um obejto pelo indice\n",
    "\n",
    "numeros = {1,2,3,4,5,1,2,6}\n",
    "\n",
    "numeros = list(numeros)\n",
    "\n",
    "print(numeros[0])"
   ]
  },
  {
   "cell_type": "code",
   "execution_count": 19,
   "metadata": {},
   "outputs": [
    {
     "name": "stdout",
     "output_type": "stream",
     "text": [
      "palio\n",
      "celta\n",
      "onix\n",
      "gol\n"
     ]
    }
   ],
   "source": [
    "# percorrendo um set\n",
    "\n",
    "carros = {'celta','gol','palio','gol','palio','onix'}\n",
    "\n",
    "for carro in carros:\n",
    "    print(carro)\n"
   ]
  },
  {
   "cell_type": "code",
   "execution_count": 23,
   "metadata": {},
   "outputs": [
    {
     "name": "stdout",
     "output_type": "stream",
     "text": [
      "0 : palio\n",
      "1 : celta\n",
      "2 : onix\n",
      "3 : gol\n"
     ]
    }
   ],
   "source": [
    "# usando enumerate\n",
    "cars = {'celta','gol','palio','gol','palio','onix'}\n",
    "for indice, carro in enumerate(cars):\n",
    "    print(f'{indice} : {carro}')"
   ]
  },
  {
   "attachments": {},
   "cell_type": "markdown",
   "metadata": {},
   "source": [
    " # <center><font color = \"Lightblue\"> **METODOS DO SET** </font></center>"
   ]
  },
  {
   "cell_type": "code",
   "execution_count": 1,
   "metadata": {},
   "outputs": [
    {
     "data": {
      "text/plain": [
       "{1, 2, 3, 4}"
      ]
     },
     "execution_count": 1,
     "metadata": {},
     "output_type": "execute_result"
    }
   ],
   "source": [
    "#union\n",
    "conjunto_a =  {1,2}\n",
    "conjunto_b =  {3,4}\n",
    "\n",
    "conjunto_a.union(conjunto_b)"
   ]
  },
  {
   "cell_type": "code",
   "execution_count": 2,
   "metadata": {},
   "outputs": [
    {
     "data": {
      "text/plain": [
       "{2, 3}"
      ]
     },
     "execution_count": 2,
     "metadata": {},
     "output_type": "execute_result"
    }
   ],
   "source": [
    "#intersection\n",
    "\n",
    "conjunto_a =  {1,2,3}\n",
    "conjunto_b =  {2,3,4}\n",
    "\n",
    "conjunto_a.intersection(conjunto_b)"
   ]
  },
  {
   "cell_type": "code",
   "execution_count": 4,
   "metadata": {},
   "outputs": [
    {
     "name": "stdout",
     "output_type": "stream",
     "text": [
      "{1}\n",
      "{4}\n"
     ]
    }
   ],
   "source": [
    "# difference\n",
    "\n",
    "conjunto_a =  {1,2,3}\n",
    "conjunto_b =  {2,3,4}\n",
    "\n",
    "print(conjunto_a.difference(conjunto_b))\n",
    "print(conjunto_b.difference(conjunto_a))"
   ]
  },
  {
   "cell_type": "code",
   "execution_count": 5,
   "metadata": {},
   "outputs": [
    {
     "data": {
      "text/plain": [
       "{1, 4}"
      ]
     },
     "execution_count": 5,
     "metadata": {},
     "output_type": "execute_result"
    }
   ],
   "source": [
    "# symmetric_difference \n",
    "'''São todos os elementos que não estão na intersecção'''\n",
    "\n",
    "conjunto_a =  {1,2,3}\n",
    "conjunto_b =  {2,3,4}\n",
    "\n",
    "conjunto_a.symmetric_difference(conjunto_b)"
   ]
  },
  {
   "cell_type": "code",
   "execution_count": 7,
   "metadata": {},
   "outputs": [
    {
     "name": "stdout",
     "output_type": "stream",
     "text": [
      "True\n",
      "False\n"
     ]
    }
   ],
   "source": [
    "# issubset\n",
    "\n",
    "conjunto_a =  {1,2,3}\n",
    "conjunto_b =  {4,1,2,5,6,3}\n",
    "\n",
    "print(conjunto_a.issubset(conjunto_b)) # todos os elemento de 'a' estão em 'b'\n",
    "print(conjunto_b.issubset(conjunto_a)) # o conjuto b nao esta totalmente contido no conjunto a\n"
   ]
  },
  {
   "cell_type": "code",
   "execution_count": 8,
   "metadata": {},
   "outputs": [
    {
     "name": "stdout",
     "output_type": "stream",
     "text": [
      "True\n",
      "False\n"
     ]
    }
   ],
   "source": [
    "#isdisjoint\n",
    "\n",
    "conjunto_a =  {1,2,3,4,5}\n",
    "conjunto_b =  {6,7,8,9}\n",
    "conjunto_c =  {1,0}\n",
    "\n",
    "print(conjunto_a.isdisjoint(conjunto_b)) # verdadeiro porque os elementos de a e de b não se cruzam\n",
    "print(conjunto_a.isdisjoint(conjunto_c)) # falso porque os elementos de a e de c se cruzam(no caso o numero 1)\n"
   ]
  },
  {
   "cell_type": "code",
   "execution_count": 11,
   "metadata": {},
   "outputs": [
    {
     "name": "stdout",
     "output_type": "stream",
     "text": [
      "{1, 42, 25, 23}\n"
     ]
    }
   ],
   "source": [
    "# add\n",
    "\n",
    "sorteio = {1,23}\n",
    "\n",
    "sorteio.add(25)\n",
    "sorteio.add(42)\n",
    "sorteio.add(25) # OBS: ELE NÃO ADICIONA ELEMENTOS REPETIDOS\n",
    "\n",
    "print(sorteio)"
   ]
  },
  {
   "cell_type": "code",
   "execution_count": 12,
   "metadata": {},
   "outputs": [
    {
     "name": "stdout",
     "output_type": "stream",
     "text": [
      "set()\n"
     ]
    }
   ],
   "source": [
    "# clear\n",
    "\n",
    "sorteio = {1,23}\n",
    "\n",
    "sorteio.clear()\n",
    "\n",
    "print(sorteio)"
   ]
  },
  {
   "cell_type": "code",
   "execution_count": 15,
   "metadata": {},
   "outputs": [
    {
     "name": "stdout",
     "output_type": "stream",
     "text": [
      "{1, 23}\n"
     ]
    }
   ],
   "source": [
    "# copy\n",
    "\n",
    "sorteio = {1,23}\n",
    "sorteio.copy()\n"
   ]
  },
  {
   "cell_type": "code",
   "execution_count": 17,
   "metadata": {},
   "outputs": [
    {
     "name": "stdout",
     "output_type": "stream",
     "text": [
      "{0, 2, 3, 4, 5, 6, 7, 8, 9}\n",
      "{0, 3, 4, 5, 6, 7, 8, 9}\n"
     ]
    }
   ],
   "source": [
    "# discard DESCARTA UM ELEMENTO DO CONTIDO NO SET OBS: se tentar remover um elemento inexistente ele não da erro\n",
    "\n",
    "numeros = {1,2,3,1,2,4,5,5,6,7,8,9,0}\n",
    "numeros.discard(1)\n",
    "print(numeros)\n",
    "numeros.discard(2)\n",
    "print(numeros)"
   ]
  },
  {
   "cell_type": "code",
   "execution_count": 18,
   "metadata": {},
   "outputs": [
    {
     "name": "stdout",
     "output_type": "stream",
     "text": [
      "{2, 3, 4, 5, 6, 7, 8, 9}\n"
     ]
    }
   ],
   "source": [
    "# pop tira sempre da esquerda pra direita\n",
    "\n",
    "numeros = {1,2,3,1,2,4,5,5,6,7,8,9,0}\n",
    "numeros.pop() # 0\n",
    "numeros.pop() # 1\n",
    "print(numeros)"
   ]
  },
  {
   "cell_type": "code",
   "execution_count": null,
   "metadata": {},
   "outputs": [],
   "source": [
    "numeros = {1,2,3,1,2,4,5,5,6,7,8,9,0}\n",
    "numeros.discard(1)\n",
    "print(numeros)\n",
    "numeros.discard(2)\n",
    "print(numeros)"
   ]
  },
  {
   "cell_type": "code",
   "execution_count": 19,
   "metadata": {},
   "outputs": [
    {
     "name": "stdout",
     "output_type": "stream",
     "text": [
      "{0, 2, 3, 4, 5, 6, 7, 8, 9}\n",
      "{0, 3, 4, 5, 6, 7, 8, 9}\n"
     ]
    }
   ],
   "source": [
    "# remove DESCARTA UM ELEMENTO DO CONTIDO NO SET OBS: se tentar remover um elemento inexistente ele DA erro\n",
    "\n",
    "numeros = {1,2,3,1,2,4,5,5,6,7,8,9,0}\n",
    "numeros.remove(1)\n",
    "print(numeros)\n",
    "numeros.remove(2)\n",
    "print(numeros)"
   ]
  },
  {
   "cell_type": "code",
   "execution_count": 20,
   "metadata": {},
   "outputs": [
    {
     "data": {
      "text/plain": [
       "10"
      ]
     },
     "execution_count": 20,
     "metadata": {},
     "output_type": "execute_result"
    }
   ],
   "source": [
    "# len Tira o tamanho do conjunto OBS: Desconsidera os elementos repetidos\n",
    "\n",
    "numeros = {1,2,3,1,2,4,5,5,6,7,8,9,0}\n",
    "\n",
    "len(numeros)\n"
   ]
  },
  {
   "cell_type": "code",
   "execution_count": 22,
   "metadata": {},
   "outputs": [
    {
     "name": "stdout",
     "output_type": "stream",
     "text": [
      "True\n",
      "False\n"
     ]
    }
   ],
   "source": [
    "# in\n",
    "\n",
    "numeros = {1,2,3,1,2,4,5,5,6,7,8,9,0}\n",
    "\n",
    "print(1 in numeros)\n",
    "print(10 in numeros)\n"
   ]
  }
 ],
 "metadata": {
  "kernelspec": {
   "display_name": "base",
   "language": "python",
   "name": "python3"
  },
  "language_info": {
   "codemirror_mode": {
    "name": "ipython",
    "version": 3
   },
   "file_extension": ".py",
   "mimetype": "text/x-python",
   "name": "python",
   "nbconvert_exporter": "python",
   "pygments_lexer": "ipython3",
   "version": "3.11.5"
  },
  "orig_nbformat": 4
 },
 "nbformat": 4,
 "nbformat_minor": 2
}
