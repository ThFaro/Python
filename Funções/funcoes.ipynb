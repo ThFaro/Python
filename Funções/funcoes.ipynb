{
 "cells": [
  {
   "attachments": {},
   "cell_type": "markdown",
   "metadata": {},
   "source": [
    "# <center><font color=\"Lightblue\"> **FUNÇÕES**</font></center>"
   ]
  },
  {
   "cell_type": "code",
   "execution_count": 12,
   "metadata": {},
   "outputs": [
    {
     "name": "stdout",
     "output_type": "stream",
     "text": [
      "Ola mundo\n",
      "Ola Laura\n",
      "Ola Thiago!\n",
      "Ola Luiz!\n"
     ]
    }
   ],
   "source": [
    "def mensagem():\n",
    "    print('Ola mundo')\n",
    "\n",
    "def mensagem2(nome):\n",
    "    print(f'Ola {nome}')\n",
    "\n",
    "def mensagem3(nome = \"Thiago\"):\n",
    "    print(f'Ola {nome}!')\n",
    "\n",
    "\n",
    "mensagem()\n",
    "mensagem2(nome = \"Laura\")\n",
    "mensagem3()\n",
    "mensagem3(nome = \"Luiz\")\n",
    "\n",
    "\n"
   ]
  },
  {
   "cell_type": "code",
   "execution_count": 15,
   "metadata": {},
   "outputs": [
    {
     "name": "stdout",
     "output_type": "stream",
     "text": [
      "60\n",
      "(9, 11)\n"
     ]
    }
   ],
   "source": [
    "def calcular_total (numeros):\n",
    "    return sum(numeros)\n",
    "\n",
    "def antecessor_sucessor(numero):\n",
    "\n",
    "    antecessor =  numero-1\n",
    "    sucessor = numero+1\n",
    "\n",
    "    return antecessor,sucessor\n",
    "\n",
    "print(calcular_total([10,20,30]))\n",
    "print(antecessor_sucessor(10))"
   ]
  },
  {
   "cell_type": "code",
   "execution_count": 1,
   "metadata": {},
   "outputs": [
    {
     "name": "stdout",
     "output_type": "stream",
     "text": [
      "Carro salvo com sucesso! \n",
      "    Fiat\n",
      "    Uno\n",
      "    1994\n",
      "    DMU-7870\n",
      "    \n",
      "Carro salvo com sucesso! \n",
      "    Volkswagen\n",
      "    Golf\n",
      "    2003\n",
      "    FET-2591\n",
      "    \n",
      "Carro salvo com sucesso! \n",
      "    Volkswagen\n",
      "    Golf\n",
      "    2003\n",
      "    FET-2591\n",
      "    \n"
     ]
    }
   ],
   "source": [
    "def salvar_carro(marca,modelo,ano,placa):\n",
    "    #salvar carro no banco de dados\n",
    "    print(f'''Carro salvo com sucesso! \n",
    "    {marca}\n",
    "    {modelo}\n",
    "    {ano}\n",
    "    {placa}\n",
    "    ''')\n",
    "\n",
    "salvar_carro('Fiat','Uno','1994','DMU-7870')\n",
    "salvar_carro(marca=\"Volkswagen\", modelo=\"Golf\", ano=\"2003\", placa=\"FET-2591\")\n",
    "salvar_carro(** { \"marca\":\"Volkswagen\", \"modelo\":\"Golf\", \"ano\":\"2003\", \"placa\":\"FET-2591\"}) #usando dicionário\n"
   ]
  }
 ],
 "metadata": {
  "kernelspec": {
   "display_name": "base",
   "language": "python",
   "name": "python3"
  },
  "language_info": {
   "codemirror_mode": {
    "name": "ipython",
    "version": 3
   },
   "file_extension": ".py",
   "mimetype": "text/x-python",
   "name": "python",
   "nbconvert_exporter": "python",
   "pygments_lexer": "ipython3",
   "version": "3.11.2"
  },
  "orig_nbformat": 4
 },
 "nbformat": 4,
 "nbformat_minor": 2
}
