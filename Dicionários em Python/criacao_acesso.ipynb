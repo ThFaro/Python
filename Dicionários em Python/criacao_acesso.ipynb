{
 "cells": [
  {
   "attachments": {},
   "cell_type": "markdown",
   "metadata": {},
   "source": [
    "# <center><font color=\"Lightblue\"> **CRIANDO UM DICIONÁRIO**</font></center>"
   ]
  },
  {
   "cell_type": "code",
   "execution_count": 1,
   "metadata": {},
   "outputs": [
    {
     "name": "stdout",
     "output_type": "stream",
     "text": [
      "{'nome': 'Thiago', 'idade': 37, 'telefone': '99122-0836'}\n"
     ]
    }
   ],
   "source": [
    "# usando {}\n",
    "pessoa = {'nome': 'Thiago', 'idade': 37}\n",
    "\n",
    "# usando o comando dict\n",
    "pessoa = dict(nome=\"Thiago\", idade=37)\n",
    "\n",
    "# adicionando uma nova chave no dicionario já existente\n",
    "pessoa[\"telefone\"] = '99122-0836'\n",
    "\n",
    "print(pessoa)\n"
   ]
  },
  {
   "attachments": {},
   "cell_type": "markdown",
   "metadata": {},
   "source": [
    "# <center><font color=\"Lightblue\"> **ACESSANDO UM DICIONÁRIO**</font></center>"
   ]
  },
  {
   "cell_type": "code",
   "execution_count": 4,
   "metadata": {},
   "outputs": [
    {
     "name": "stdout",
     "output_type": "stream",
     "text": [
      "Thiago\n",
      "37\n",
      "991220836\n"
     ]
    }
   ],
   "source": [
    "dados = dict (nome=\"Thiago\", idade=37, telefone=991220836)\n",
    "\n",
    "print(dados[\"nome\"])\n",
    "print(dados[\"idade\"])\n",
    "print(dados[\"telefone\"])"
   ]
  },
  {
   "attachments": {},
   "cell_type": "markdown",
   "metadata": {},
   "source": [
    "# <center><font color=\"Lightblue\"> **SOBRESCREVENDO**</font></center>"
   ]
  },
  {
   "cell_type": "code",
   "execution_count": 5,
   "metadata": {},
   "outputs": [
    {
     "data": {
      "text/plain": [
       "{'nome': 'Maria', 'idade': '20', 'telefone': '32346176'}"
      ]
     },
     "execution_count": 5,
     "metadata": {},
     "output_type": "execute_result"
    }
   ],
   "source": [
    "dados = dict (nome=\"Thiago\", idade=37, telefone=991220836)\n",
    "\n",
    "dados[\"nome\"] = 'Maria'\n",
    "dados[\"idade\"] = '20'\n",
    "dados[\"telefone\"] = '32346176'\n",
    "\n",
    "dados"
   ]
  },
  {
   "attachments": {},
   "cell_type": "markdown",
   "metadata": {},
   "source": [
    "# <center><font color=\"Lightblue\"> **DICIONARIOS ANINHADOS**</font></center>"
   ]
  },
  {
   "cell_type": "code",
   "execution_count": 15,
   "metadata": {},
   "outputs": [
    {
     "name": "stdout",
     "output_type": "stream",
     "text": [
      "991220836\n",
      "1\n"
     ]
    }
   ],
   "source": [
    "contatos = {\n",
    "    \"th.faro86@gmail.com\": {'nome': 'Thiago', 'idade': 37, \"telefone\": '991220836'},\n",
    "    \"maria@gmail.com\": {'nome': 'Maria', 'idade': 20, \"telefone\": \"32346176\"},\n",
    "    \"joao@gmail.com\": {'nome': 'Joao', 'idade': 25, \"telefone\": \"991112233\", \"extra\": {'a': 1}}\n",
    "}\n",
    "\n",
    "print(contatos['th.faro86@gmail.com']['telefone'])\n",
    "\n",
    "extra = contatos['joao@gmail.com']['extra']['a']\n",
    "\n",
    "print(extra)\n",
    "\n"
   ]
  }
 ],
 "metadata": {
  "kernelspec": {
   "display_name": "base",
   "language": "python",
   "name": "python3"
  },
  "language_info": {
   "codemirror_mode": {
    "name": "ipython",
    "version": 3
   },
   "file_extension": ".py",
   "mimetype": "text/x-python",
   "name": "python",
   "nbconvert_exporter": "python",
   "pygments_lexer": "ipython3",
   "version": "3.11.5"
  },
  "orig_nbformat": 4
 },
 "nbformat": 4,
 "nbformat_minor": 2
}
